{
  "nbformat": 4,
  "nbformat_minor": 0,
  "metadata": {
    "colab": {
      "name": "Reinforcement Learning with Flying Kite experiment.ipynb",
      "provenance": []
    },
    "kernelspec": {
      "name": "python3",
      "display_name": "Python 3"
    },
    "language_info": {
      "name": "python"
    }
  },
  "cells": [
    {
      "cell_type": "code",
      "metadata": {
        "id": "6QxqFVDxgnBq"
      },
      "source": [
        "from gym import Env\n",
        "from gym.spaces import Discrete, Box\n",
        "import numpy as np\n",
        "import random\n",
        "\n",
        "class KiteEnv(Env):\n",
        "    def __init__(self):\n",
        "        self.FlyLength = 60\n",
        "        self.pushPullSpeed = 5\n",
        "        self.maxWindSpeed = 40\n",
        "        self.minWindSpeed = 10\n",
        "        self.observation_space = Box(low=np.array([10.]), high=np.array([40.]), dtype=np.float32)\n",
        "        self.action_space = Discrete(3)\n",
        "        self.windspeed = 30 + random.randint(-3,3)\n",
        "        self.hight = 10 + random.randint(-2,2)\n",
        "\n",
        "    def step(self, action):\n",
        "        self.FlyLength -= 1\n",
        "        # -1 = push. 0 = hold, 1 = release\n",
        "        effective_speed = self.windspeed + action*5\n",
        "\n",
        "        if self.FlyLength <= 0:\n",
        "            done = True\n",
        "        else:\n",
        "            done = False\n",
        "        self.windspeed += random.randint(-5,5)\n",
        "\n",
        "        newHight = self.hight\n",
        "\n",
        "        reward = 0\n",
        "        if done or effective_speed >= self.maxWindSpeed:\n",
        "            if action != 1:\n",
        "                reward = -30\n",
        "            else:\n",
        "                reward = 0\n",
        "            done = True\n",
        "        else:\n",
        "            newHight =+ 0.25*(action)\n",
        "\n",
        "        if not done:\n",
        "            if effective_speed <= self.minWindSpeed:\n",
        "                reward += -10\n",
        "                if effective_speed <= 0:\n",
        "                    done = True\n",
        "                    reward += -20\n",
        "            else:\n",
        "                reward += (newHight - self.hight)*4\n",
        "        self.hight = newHight\n",
        "\n",
        "        info = {}\n",
        "\n",
        "        return self.windspeed, reward, done, info\n",
        "\n",
        "    def render(self, mode='human'):\n",
        "        pass\n",
        "\n",
        "    def reset(self):\n",
        "        self.windspeed = 30 + random.randint(-3,3)\n",
        "        self.hight = 10 + random.randint(-2,2)\n",
        "        self.FlyLength = 60\n",
        "        return self.windspeed\n"
      ],
      "execution_count": 72,
      "outputs": []
    },
    {
      "cell_type": "code",
      "metadata": {
        "colab": {
          "base_uri": "https://localhost:8080/"
        },
        "id": "z5goQqQGgvso",
        "outputId": "65c04aee-4009-44bd-fed0-e152fad968af"
      },
      "source": [
        "env = KiteEnv()\n",
        "env.observation_space.sample()"
      ],
      "execution_count": 73,
      "outputs": [
        {
          "output_type": "stream",
          "text": [
            "/usr/local/lib/python3.7/dist-packages/gym/logger.py:30: UserWarning: \u001b[33mWARN: Box bound precision lowered by casting to float32\u001b[0m\n",
            "  warnings.warn(colorize('%s: %s'%('WARN', msg % args), 'yellow'))\n"
          ],
          "name": "stderr"
        },
        {
          "output_type": "execute_result",
          "data": {
            "text/plain": [
              "array([26.265148], dtype=float32)"
            ]
          },
          "metadata": {
            "tags": []
          },
          "execution_count": 73
        }
      ]
    },
    {
      "cell_type": "code",
      "metadata": {
        "colab": {
          "base_uri": "https://localhost:8080/"
        },
        "id": "l4J3G19Ag9JH",
        "outputId": "8a4a8ad2-a975-4a7c-a86a-970e2eebe00b"
      },
      "source": [
        "ep = 10\n",
        "for e in range(ep):\n",
        "  state = env.reset()\n",
        "  done = False\n",
        "  score = 0\n",
        "  while not done:\n",
        "    action = env.action_space.sample()\n",
        "    n_state, reward, done, info = env.step(action)\n",
        "    score += reward\n",
        "  print('Episode:{} Score:{}'.format(e+1, score))"
      ],
      "execution_count": 74,
      "outputs": [
        {
          "output_type": "stream",
          "text": [
            "Episode:1 Score:-69.0\n",
            "Episode:2 Score:-66.0\n",
            "Episode:3 Score:-54.0\n",
            "Episode:4 Score:-78.0\n",
            "Episode:5 Score:-30\n",
            "Episode:6 Score:-73.0\n",
            "Episode:7 Score:-70.0\n",
            "Episode:8 Score:-61.0\n",
            "Episode:9 Score:-78.0\n",
            "Episode:10 Score:-36.0\n"
          ],
          "name": "stdout"
        }
      ]
    },
    {
      "cell_type": "code",
      "metadata": {
        "id": "WFe9wgiKhz5-"
      },
      "source": [
        "import numpy as np\n",
        "from keras.models import Sequential\n",
        "from keras.layers import Dense, Flatten\n",
        "from keras.optimizers import Adam"
      ],
      "execution_count": 75,
      "outputs": []
    },
    {
      "cell_type": "code",
      "metadata": {
        "id": "EXXieR5LkM4I"
      },
      "source": [
        "states = env.observation_space.shape\n",
        "actions = env.action_space.n"
      ],
      "execution_count": 76,
      "outputs": []
    },
    {
      "cell_type": "code",
      "metadata": {
        "colab": {
          "base_uri": "https://localhost:8080/"
        },
        "id": "psp4mQebkvs2",
        "outputId": "d4f463d9-5837-4fbc-d173-ef7b4607ee5f"
      },
      "source": [
        "states"
      ],
      "execution_count": 77,
      "outputs": [
        {
          "output_type": "execute_result",
          "data": {
            "text/plain": [
              "(1,)"
            ]
          },
          "metadata": {
            "tags": []
          },
          "execution_count": 77
        }
      ]
    },
    {
      "cell_type": "code",
      "metadata": {
        "id": "y7cYSiTTkxTx"
      },
      "source": [
        "def build_model(states, actions):\n",
        "    model = Sequential()    \n",
        "    model.add(Dense(24, activation='relu', input_shape=states))\n",
        "    model.add(Dense(24, activation='relu'))\n",
        "    model.add(Dense(actions, activation='linear'))\n",
        "    return model"
      ],
      "execution_count": 78,
      "outputs": []
    },
    {
      "cell_type": "code",
      "metadata": {
        "colab": {
          "base_uri": "https://localhost:8080/"
        },
        "id": "LaqRARt8k8P2",
        "outputId": "7525d8e9-58f7-4e0f-b4fe-320de127c25c"
      },
      "source": [
        "model = build_model(states, actions)\n",
        "model.summary()"
      ],
      "execution_count": 79,
      "outputs": [
        {
          "output_type": "stream",
          "text": [
            "Model: \"sequential_5\"\n",
            "_________________________________________________________________\n",
            "Layer (type)                 Output Shape              Param #   \n",
            "=================================================================\n",
            "dense_13 (Dense)             (None, 24)                48        \n",
            "_________________________________________________________________\n",
            "dense_14 (Dense)             (None, 24)                600       \n",
            "_________________________________________________________________\n",
            "dense_15 (Dense)             (None, 3)                 75        \n",
            "=================================================================\n",
            "Total params: 723\n",
            "Trainable params: 723\n",
            "Non-trainable params: 0\n",
            "_________________________________________________________________\n"
          ],
          "name": "stdout"
        }
      ]
    },
    {
      "cell_type": "code",
      "metadata": {
        "colab": {
          "base_uri": "https://localhost:8080/"
        },
        "id": "2V_KzS0zlWsj",
        "outputId": "da404774-04b6-4861-9a2c-cecbf2b1bd71"
      },
      "source": [
        "!pip install keras-rl2"
      ],
      "execution_count": 80,
      "outputs": [
        {
          "output_type": "stream",
          "text": [
            "Requirement already satisfied: keras-rl2 in /usr/local/lib/python3.7/dist-packages (1.0.5)\n",
            "Requirement already satisfied: tensorflow in /usr/local/lib/python3.7/dist-packages (from keras-rl2) (2.4.1)\n",
            "Requirement already satisfied: opt-einsum~=3.3.0 in /usr/local/lib/python3.7/dist-packages (from tensorflow->keras-rl2) (3.3.0)\n",
            "Requirement already satisfied: grpcio~=1.32.0 in /usr/local/lib/python3.7/dist-packages (from tensorflow->keras-rl2) (1.32.0)\n",
            "Requirement already satisfied: astunparse~=1.6.3 in /usr/local/lib/python3.7/dist-packages (from tensorflow->keras-rl2) (1.6.3)\n",
            "Requirement already satisfied: absl-py~=0.10 in /usr/local/lib/python3.7/dist-packages (from tensorflow->keras-rl2) (0.12.0)\n",
            "Requirement already satisfied: tensorboard~=2.4 in /usr/local/lib/python3.7/dist-packages (from tensorflow->keras-rl2) (2.4.1)\n",
            "Requirement already satisfied: h5py~=2.10.0 in /usr/local/lib/python3.7/dist-packages (from tensorflow->keras-rl2) (2.10.0)\n",
            "Requirement already satisfied: keras-preprocessing~=1.1.2 in /usr/local/lib/python3.7/dist-packages (from tensorflow->keras-rl2) (1.1.2)\n",
            "Requirement already satisfied: six~=1.15.0 in /usr/local/lib/python3.7/dist-packages (from tensorflow->keras-rl2) (1.15.0)\n",
            "Requirement already satisfied: protobuf>=3.9.2 in /usr/local/lib/python3.7/dist-packages (from tensorflow->keras-rl2) (3.12.4)\n",
            "Requirement already satisfied: termcolor~=1.1.0 in /usr/local/lib/python3.7/dist-packages (from tensorflow->keras-rl2) (1.1.0)\n",
            "Requirement already satisfied: typing-extensions~=3.7.4 in /usr/local/lib/python3.7/dist-packages (from tensorflow->keras-rl2) (3.7.4.3)\n",
            "Requirement already satisfied: wheel~=0.35 in /usr/local/lib/python3.7/dist-packages (from tensorflow->keras-rl2) (0.36.2)\n",
            "Requirement already satisfied: google-pasta~=0.2 in /usr/local/lib/python3.7/dist-packages (from tensorflow->keras-rl2) (0.2.0)\n",
            "Requirement already satisfied: wrapt~=1.12.1 in /usr/local/lib/python3.7/dist-packages (from tensorflow->keras-rl2) (1.12.1)\n",
            "Requirement already satisfied: tensorflow-estimator<2.5.0,>=2.4.0 in /usr/local/lib/python3.7/dist-packages (from tensorflow->keras-rl2) (2.4.0)\n",
            "Requirement already satisfied: flatbuffers~=1.12.0 in /usr/local/lib/python3.7/dist-packages (from tensorflow->keras-rl2) (1.12)\n",
            "Requirement already satisfied: gast==0.3.3 in /usr/local/lib/python3.7/dist-packages (from tensorflow->keras-rl2) (0.3.3)\n",
            "Requirement already satisfied: numpy~=1.19.2 in /usr/local/lib/python3.7/dist-packages (from tensorflow->keras-rl2) (1.19.5)\n",
            "Requirement already satisfied: setuptools>=41.0.0 in /usr/local/lib/python3.7/dist-packages (from tensorboard~=2.4->tensorflow->keras-rl2) (56.1.0)\n",
            "Requirement already satisfied: tensorboard-plugin-wit>=1.6.0 in /usr/local/lib/python3.7/dist-packages (from tensorboard~=2.4->tensorflow->keras-rl2) (1.8.0)\n",
            "Requirement already satisfied: requests<3,>=2.21.0 in /usr/local/lib/python3.7/dist-packages (from tensorboard~=2.4->tensorflow->keras-rl2) (2.23.0)\n",
            "Requirement already satisfied: werkzeug>=0.11.15 in /usr/local/lib/python3.7/dist-packages (from tensorboard~=2.4->tensorflow->keras-rl2) (2.0.0)\n",
            "Requirement already satisfied: markdown>=2.6.8 in /usr/local/lib/python3.7/dist-packages (from tensorboard~=2.4->tensorflow->keras-rl2) (3.3.4)\n",
            "Requirement already satisfied: google-auth-oauthlib<0.5,>=0.4.1 in /usr/local/lib/python3.7/dist-packages (from tensorboard~=2.4->tensorflow->keras-rl2) (0.4.4)\n",
            "Requirement already satisfied: google-auth<2,>=1.6.3 in /usr/local/lib/python3.7/dist-packages (from tensorboard~=2.4->tensorflow->keras-rl2) (1.30.0)\n",
            "Requirement already satisfied: chardet<4,>=3.0.2 in /usr/local/lib/python3.7/dist-packages (from requests<3,>=2.21.0->tensorboard~=2.4->tensorflow->keras-rl2) (3.0.4)\n",
            "Requirement already satisfied: urllib3!=1.25.0,!=1.25.1,<1.26,>=1.21.1 in /usr/local/lib/python3.7/dist-packages (from requests<3,>=2.21.0->tensorboard~=2.4->tensorflow->keras-rl2) (1.24.3)\n",
            "Requirement already satisfied: certifi>=2017.4.17 in /usr/local/lib/python3.7/dist-packages (from requests<3,>=2.21.0->tensorboard~=2.4->tensorflow->keras-rl2) (2020.12.5)\n",
            "Requirement already satisfied: idna<3,>=2.5 in /usr/local/lib/python3.7/dist-packages (from requests<3,>=2.21.0->tensorboard~=2.4->tensorflow->keras-rl2) (2.10)\n",
            "Requirement already satisfied: importlib-metadata; python_version < \"3.8\" in /usr/local/lib/python3.7/dist-packages (from markdown>=2.6.8->tensorboard~=2.4->tensorflow->keras-rl2) (4.0.1)\n",
            "Requirement already satisfied: requests-oauthlib>=0.7.0 in /usr/local/lib/python3.7/dist-packages (from google-auth-oauthlib<0.5,>=0.4.1->tensorboard~=2.4->tensorflow->keras-rl2) (1.3.0)\n",
            "Requirement already satisfied: pyasn1-modules>=0.2.1 in /usr/local/lib/python3.7/dist-packages (from google-auth<2,>=1.6.3->tensorboard~=2.4->tensorflow->keras-rl2) (0.2.8)\n",
            "Requirement already satisfied: cachetools<5.0,>=2.0.0 in /usr/local/lib/python3.7/dist-packages (from google-auth<2,>=1.6.3->tensorboard~=2.4->tensorflow->keras-rl2) (4.2.2)\n",
            "Requirement already satisfied: rsa<5,>=3.1.4; python_version >= \"3.6\" in /usr/local/lib/python3.7/dist-packages (from google-auth<2,>=1.6.3->tensorboard~=2.4->tensorflow->keras-rl2) (4.7.2)\n",
            "Requirement already satisfied: zipp>=0.5 in /usr/local/lib/python3.7/dist-packages (from importlib-metadata; python_version < \"3.8\"->markdown>=2.6.8->tensorboard~=2.4->tensorflow->keras-rl2) (3.4.1)\n",
            "Requirement already satisfied: oauthlib>=3.0.0 in /usr/local/lib/python3.7/dist-packages (from requests-oauthlib>=0.7.0->google-auth-oauthlib<0.5,>=0.4.1->tensorboard~=2.4->tensorflow->keras-rl2) (3.1.0)\n",
            "Requirement already satisfied: pyasn1<0.5.0,>=0.4.6 in /usr/local/lib/python3.7/dist-packages (from pyasn1-modules>=0.2.1->google-auth<2,>=1.6.3->tensorboard~=2.4->tensorflow->keras-rl2) (0.4.8)\n"
          ],
          "name": "stdout"
        }
      ]
    },
    {
      "cell_type": "code",
      "metadata": {
        "id": "-7BU1_DXlPrk"
      },
      "source": [
        "from rl.agents import DQNAgent\n",
        "from rl.policy import BoltzmannQPolicy\n",
        "from rl.memory import SequentialMemory"
      ],
      "execution_count": 81,
      "outputs": []
    },
    {
      "cell_type": "code",
      "metadata": {
        "id": "0Xze3KfEld5g"
      },
      "source": [
        "def build_agent(model, actions):\n",
        "    policy = BoltzmannQPolicy()\n",
        "    memory = SequentialMemory(limit=50000, window_length=1)\n",
        "    dqn = DQNAgent(model=model, memory=memory, policy=policy, \n",
        "                  nb_actions=actions, nb_steps_warmup=10, target_model_update=1e-2)\n",
        "    return dqn"
      ],
      "execution_count": 82,
      "outputs": []
    },
    {
      "cell_type": "code",
      "metadata": {
        "colab": {
          "base_uri": "https://localhost:8080/"
        },
        "id": "p67PiUrklgD5",
        "outputId": "9da77096-3b94-47e2-bf67-baed2f2a8b20"
      },
      "source": [
        "dqn = build_agent(model, actions)\n",
        "dqn.compile(optimizer=Adam(lr=1e-3), metrics=['mae'])\n",
        "dqn.fit(env, nb_steps=50000, visualize=False, verbose=1)"
      ],
      "execution_count": 83,
      "outputs": [
        {
          "output_type": "stream",
          "text": [
            "Training for 50000 steps ...\n",
            "Interval 1 (0 steps performed)\n",
            "\r    1/10000 [..............................] - ETA: 24:37 - reward: -38.0000"
          ],
          "name": "stdout"
        },
        {
          "output_type": "stream",
          "text": [
            "/usr/local/lib/python3.7/dist-packages/tensorflow/python/keras/engine/training.py:2325: UserWarning: `Model.state_updates` will be removed in a future version. This property should not be used in TensorFlow 2.0, as `updates` are applied automatically.\n",
            "  warnings.warn('`Model.state_updates` will be removed in a future version. '\n",
            "/usr/local/lib/python3.7/dist-packages/rl/memory.py:37: UserWarning: Not enough entries to sample without replacement. Consider increasing your warm-up phase to avoid oversampling!\n",
            "  warnings.warn('Not enough entries to sample without replacement. Consider increasing your warm-up phase to avoid oversampling!')\n"
          ],
          "name": "stderr"
        },
        {
          "output_type": "stream",
          "text": [
            "10000/10000 [==============================] - 85s 9ms/step - reward: -7.2975\n",
            "1491 episodes - episode_reward: -48.920 [-167.000, -30.000] - loss: 71.151 - mae: 29.696 - mean_q: -29.079\n",
            "\n",
            "Interval 2 (10000 steps performed)\n",
            "10000/10000 [==============================] - 91s 9ms/step - reward: -9.4087\n",
            "2047 episodes - episode_reward: -45.965 [-86.000, -30.000] - loss: 67.576 - mae: 32.268 - mean_q: -38.910\n",
            "\n",
            "Interval 3 (20000 steps performed)\n",
            "10000/10000 [==============================] - 91s 9ms/step - reward: -8.6944\n",
            "1862 episodes - episode_reward: -46.687 [-86.000, -30.000] - loss: 64.763 - mae: 33.627 - mean_q: -39.360\n",
            "\n",
            "Interval 4 (30000 steps performed)\n",
            "10000/10000 [==============================] - 95s 10ms/step - reward: -9.2544\n",
            "2019 episodes - episode_reward: -45.835 [-82.000, -30.000] - loss: 65.312 - mae: 33.752 - mean_q: -39.617\n",
            "\n",
            "Interval 5 (40000 steps performed)\n",
            "10000/10000 [==============================] - 95s 9ms/step - reward: -9.1823\n",
            "done, took 457.594 seconds\n"
          ],
          "name": "stdout"
        },
        {
          "output_type": "execute_result",
          "data": {
            "text/plain": [
              "<tensorflow.python.keras.callbacks.History at 0x7ff8c2ca00d0>"
            ]
          },
          "metadata": {
            "tags": []
          },
          "execution_count": 83
        }
      ]
    },
    {
      "cell_type": "code",
      "metadata": {
        "colab": {
          "base_uri": "https://localhost:8080/"
        },
        "id": "tEF3SYcZlish",
        "outputId": "f021e40e-7c47-43b2-c057-710112f0bdb5"
      },
      "source": [
        "scores = dqn.test(env, nb_episodes=100, visualize=False)\n",
        "print(np.mean(scores.history['episode_reward']))"
      ],
      "execution_count": 84,
      "outputs": [
        {
          "output_type": "stream",
          "text": [
            "Testing for 100 episodes ...\n",
            "Episode 1: reward: -30.000, steps: 1\n",
            "Episode 2: reward: -30.000, steps: 1\n",
            "Episode 3: reward: -72.000, steps: 15\n",
            "Episode 4: reward: -68.000, steps: 48\n",
            "Episode 5: reward: -65.000, steps: 2\n",
            "Episode 6: reward: -30.000, steps: 1\n",
            "Episode 7: reward: -30.000, steps: 1\n",
            "Episode 8: reward: -68.000, steps: 41\n",
            "Episode 9: reward: -30.000, steps: 1\n",
            "Episode 10: reward: -30.000, steps: 1\n",
            "Episode 11: reward: -30.000, steps: 1\n",
            "Episode 12: reward: -72.000, steps: 2\n",
            "Episode 13: reward: -77.000, steps: 6\n",
            "Episode 14: reward: -30.000, steps: 1\n",
            "Episode 15: reward: -72.000, steps: 2\n",
            "Episode 16: reward: -72.000, steps: 13\n",
            "Episode 17: reward: -30.000, steps: 1\n",
            "Episode 18: reward: -69.000, steps: 19\n",
            "Episode 19: reward: -30.000, steps: 1\n",
            "Episode 20: reward: -30.000, steps: 1\n",
            "Episode 21: reward: -30.000, steps: 1\n",
            "Episode 22: reward: -30.000, steps: 1\n",
            "Episode 23: reward: -30.000, steps: 1\n",
            "Episode 24: reward: -73.000, steps: 2\n",
            "Episode 25: reward: -72.000, steps: 2\n",
            "Episode 26: reward: -30.000, steps: 1\n",
            "Episode 27: reward: -30.000, steps: 1\n",
            "Episode 28: reward: -30.000, steps: 1\n",
            "Episode 29: reward: -30.000, steps: 1\n",
            "Episode 30: reward: -30.000, steps: 1\n",
            "Episode 31: reward: -30.000, steps: 1\n",
            "Episode 32: reward: -60.000, steps: 2\n",
            "Episode 33: reward: -30.000, steps: 1\n",
            "Episode 34: reward: -30.000, steps: 1\n",
            "Episode 35: reward: -77.000, steps: 3\n",
            "Episode 36: reward: -64.000, steps: 2\n",
            "Episode 37: reward: -60.000, steps: 8\n",
            "Episode 38: reward: -30.000, steps: 1\n",
            "Episode 39: reward: -30.000, steps: 1\n",
            "Episode 40: reward: -30.000, steps: 1\n",
            "Episode 41: reward: -30.000, steps: 1\n",
            "Episode 42: reward: -64.000, steps: 12\n",
            "Episode 43: reward: -30.000, steps: 1\n",
            "Episode 44: reward: -30.000, steps: 1\n",
            "Episode 45: reward: -72.000, steps: 25\n",
            "Episode 46: reward: -69.000, steps: 4\n",
            "Episode 47: reward: -72.000, steps: 9\n",
            "Episode 48: reward: -30.000, steps: 1\n",
            "Episode 49: reward: -77.000, steps: 2\n",
            "Episode 50: reward: -30.000, steps: 1\n",
            "Episode 51: reward: -30.000, steps: 1\n",
            "Episode 52: reward: -30.000, steps: 1\n",
            "Episode 53: reward: -72.000, steps: 2\n",
            "Episode 54: reward: -76.000, steps: 39\n",
            "Episode 55: reward: -30.000, steps: 1\n",
            "Episode 56: reward: -30.000, steps: 1\n",
            "Episode 57: reward: -68.000, steps: 59\n",
            "Episode 58: reward: -30.000, steps: 1\n",
            "Episode 59: reward: -68.000, steps: 3\n",
            "Episode 60: reward: -72.000, steps: 2\n",
            "Episode 61: reward: -30.000, steps: 1\n",
            "Episode 62: reward: -30.000, steps: 1\n",
            "Episode 63: reward: -72.000, steps: 16\n",
            "Episode 64: reward: -77.000, steps: 29\n",
            "Episode 65: reward: -68.000, steps: 8\n",
            "Episode 66: reward: -72.000, steps: 2\n",
            "Episode 67: reward: -30.000, steps: 1\n",
            "Episode 68: reward: -76.000, steps: 2\n",
            "Episode 69: reward: -60.000, steps: 4\n",
            "Episode 70: reward: -30.000, steps: 1\n",
            "Episode 71: reward: -30.000, steps: 1\n",
            "Episode 72: reward: -30.000, steps: 1\n",
            "Episode 73: reward: -76.000, steps: 3\n",
            "Episode 74: reward: -30.000, steps: 1\n",
            "Episode 75: reward: -72.000, steps: 2\n",
            "Episode 76: reward: -30.000, steps: 1\n",
            "Episode 77: reward: -30.000, steps: 1\n",
            "Episode 78: reward: -30.000, steps: 1\n",
            "Episode 79: reward: -30.000, steps: 1\n",
            "Episode 80: reward: -30.000, steps: 1\n",
            "Episode 81: reward: -64.000, steps: 2\n",
            "Episode 82: reward: -77.000, steps: 6\n",
            "Episode 83: reward: -30.000, steps: 1\n",
            "Episode 84: reward: -77.000, steps: 3\n",
            "Episode 85: reward: -72.000, steps: 15\n",
            "Episode 86: reward: -72.000, steps: 2\n",
            "Episode 87: reward: -30.000, steps: 1\n",
            "Episode 88: reward: -30.000, steps: 1\n",
            "Episode 89: reward: -30.000, steps: 1\n",
            "Episode 90: reward: -30.000, steps: 1\n",
            "Episode 91: reward: -30.000, steps: 1\n",
            "Episode 92: reward: -65.000, steps: 2\n",
            "Episode 93: reward: -30.000, steps: 1\n",
            "Episode 94: reward: -30.000, steps: 1\n",
            "Episode 95: reward: -30.000, steps: 1\n",
            "Episode 96: reward: -64.000, steps: 2\n",
            "Episode 97: reward: -77.000, steps: 12\n",
            "Episode 98: reward: -69.000, steps: 6\n",
            "Episode 99: reward: -30.000, steps: 1\n",
            "Episode 100: reward: -30.000, steps: 1\n",
            "-47.01\n"
          ],
          "name": "stdout"
        }
      ]
    }
  ]
}